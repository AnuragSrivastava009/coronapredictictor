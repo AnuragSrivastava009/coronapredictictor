{
 "cells": [
  {
   "cell_type": "code",
   "execution_count": null,
   "metadata": {},
   "outputs": [],
   "source": [
    "import numpy as np\n",
    "import pandas as pd\n",
    "%matplotlib inline\n",
    "import matplotlib.pyplot as plt"
   ]
  },
  {
   "cell_type": "code",
   "execution_count": null,
   "metadata": {},
   "outputs": [],
   "source": [
    "#this data is taken from ourworldindata.org Coronavirus source data  total confirm cases\n",
    "\n",
    "\n",
    "dt=pd.read_csv(\"coronaCases.csv\")"
   ]
  },
  {
   "cell_type": "code",
   "execution_count": null,
   "metadata": {},
   "outputs": [],
   "source": [
    "#print data head\n",
    "dt.head()\n",
    "dt"
   ]
  },
  {
   "cell_type": "code",
   "execution_count": null,
   "metadata": {},
   "outputs": [],
   "source": [
    "x=np.array(dt['id']).reshape(-1,1)"
   ]
  },
  {
   "cell_type": "code",
   "execution_count": 5,
   "metadata": {
    "scrolled": true
   },
   "outputs": [],
   "source": [
    "x"
   ]
  },
  {
   "cell_type": "code",
   "execution_count": 6,
   "metadata": {},
   "outputs": [],
   "source": [
    "y=np.array(dt['cases']).reshape(-1,1)"
   ]
  },
  {
   "cell_type": "code",
   "execution_count": 7,
   "metadata": {},
   "outputs": [
    {
     "data": {
      "text/plain": [
       "array([[      27],\n",
       "       [      27],\n",
       "       [      27],\n",
       "       [      44],\n",
       "       [      44],\n",
       "       [      59],\n",
       "       [      59],\n",
       "       [      59],\n",
       "       [      59],\n",
       "       [      59],\n",
       "       [      59],\n",
       "       [      59],\n",
       "       [      59],\n",
       "       [      60],\n",
       "       [      60],\n",
       "       [      61],\n",
       "       [      61],\n",
       "       [      66],\n",
       "       [      83],\n",
       "       [     219],\n",
       "       [     239],\n",
       "       [     392],\n",
       "       [     534],\n",
       "       [     631],\n",
       "       [     897],\n",
       "       [    1350],\n",
       "       [    2023],\n",
       "       [    2820],\n",
       "       [    4587],\n",
       "       [    6067],\n",
       "       [    7823],\n",
       "       [    9824],\n",
       "       [   11946],\n",
       "       [   14554],\n",
       "       [   17372],\n",
       "       [   20615],\n",
       "       [   24523],\n",
       "       [   28274],\n",
       "       [   31492],\n",
       "       [   34934],\n",
       "       [   37552],\n",
       "       [   40544],\n",
       "       [   43106],\n",
       "       [   45178],\n",
       "       [   60329],\n",
       "       [   64544],\n",
       "       [   67104],\n",
       "       [   69266],\n",
       "       [   71333],\n",
       "       [   73328],\n",
       "       [   75192],\n",
       "       [   75724],\n",
       "       [   76720],\n",
       "       [   77805],\n",
       "       [   78814],\n",
       "       [   79337],\n",
       "       [   80130],\n",
       "       [   80997],\n",
       "       [   82111],\n",
       "       [   83381],\n",
       "       [   85237],\n",
       "       [   87061],\n",
       "       [   89147],\n",
       "       [   91001],\n",
       "       [   93310],\n",
       "       [   95646],\n",
       "       [   98705],\n",
       "       [  102842],\n",
       "       [  106812],\n",
       "       [  110984],\n",
       "       [  115746],\n",
       "       [  120832],\n",
       "       [  128670],\n",
       "       [  138128],\n",
       "       [  148544],\n",
       "       [  160775],\n",
       "       [  173280],\n",
       "       [  187486],\n",
       "       [  204421],\n",
       "       [  224618],\n",
       "       [  255698],\n",
       "       [  287620],\n",
       "       [  321828],\n",
       "       [  356230],\n",
       "       [  400559],\n",
       "       [  442984],\n",
       "       [  496652],\n",
       "       [  557677],\n",
       "       [  622655],\n",
       "       [  685562],\n",
       "       [  742902],\n",
       "       [  807308],\n",
       "       [  881922],\n",
       "       [  959399],\n",
       "       [ 1036805],\n",
       "       [ 1118640],\n",
       "       [ 1203896],\n",
       "       [ 1270226],\n",
       "       [ 1343209],\n",
       "       [ 1420217],\n",
       "       [ 1505214],\n",
       "       [ 1592552],\n",
       "       [ 1682159],\n",
       "       [ 1757539],\n",
       "       [ 1825938],\n",
       "       [ 1890681],\n",
       "       [ 1967194],\n",
       "       [ 2045429],\n",
       "       [ 2129352],\n",
       "       [ 2211118],\n",
       "       [ 2290755],\n",
       "       [ 2361494],\n",
       "       [ 2435161],\n",
       "       [ 2521664],\n",
       "       [ 2587968],\n",
       "       [ 2666447],\n",
       "       [ 2739270],\n",
       "       [ 2839189],\n",
       "       [ 2921027],\n",
       "       [ 2986572],\n",
       "       [ 3058772],\n",
       "       [ 3137464],\n",
       "       [ 3222952],\n",
       "       [ 3311515],\n",
       "       [ 3392405],\n",
       "       [ 3469545],\n",
       "       [ 3546008],\n",
       "       [ 3624530],\n",
       "       [ 3712043],\n",
       "       [ 3804388],\n",
       "       [ 3893541],\n",
       "       [ 3982532],\n",
       "       [ 4057348],\n",
       "       [ 4126975],\n",
       "       [ 4213033],\n",
       "       [ 4299232],\n",
       "       [ 4395791],\n",
       "       [ 4492947],\n",
       "       [ 4585994],\n",
       "       [ 4665704],\n",
       "       [ 4751875],\n",
       "       [ 4847166],\n",
       "       [ 4950418],\n",
       "       [ 5058237],\n",
       "       [ 5164142],\n",
       "       [ 5264146],\n",
       "       [ 5357362],\n",
       "       [ 5446098],\n",
       "       [ 5539730],\n",
       "       [ 5642400],\n",
       "       [ 5760768],\n",
       "       [ 5882813],\n",
       "       [ 6010955],\n",
       "       [ 6117835],\n",
       "       [ 6217755],\n",
       "       [ 6330016],\n",
       "       [ 6456696],\n",
       "       [ 6583661],\n",
       "       [ 6716758],\n",
       "       [ 6842921],\n",
       "       [ 6958136],\n",
       "       [ 7063483],\n",
       "       [ 7188576],\n",
       "       [ 7322883],\n",
       "       [ 7459219],\n",
       "       [ 7603912],\n",
       "       [ 7737539],\n",
       "       [ 7859000],\n",
       "       [ 7977579],\n",
       "       [ 8118786],\n",
       "       [ 8295432],\n",
       "       [ 8433869],\n",
       "       [ 8612971],\n",
       "       [ 8772590],\n",
       "       [ 8901467],\n",
       "       [ 9037796],\n",
       "       [ 9202283],\n",
       "       [ 9377066],\n",
       "       [ 9556094],\n",
       "       [ 9744809],\n",
       "       [ 9926082],\n",
       "       [10085870],\n",
       "       [10245831],\n",
       "       [10437897],\n",
       "       [10638829],\n",
       "       [10847714],\n",
       "       [11053325],\n",
       "       [11244025],\n",
       "       [11421989],\n",
       "       [11597659],\n",
       "       [11804606],\n",
       "       [12020093],\n",
       "       [12245381],\n",
       "       [12477038],\n",
       "       [12694724],\n",
       "       [12890117],\n",
       "       [13079321],\n",
       "       [13302877],\n",
       "       [13534780],\n",
       "       [13789275],\n",
       "       [14043822],\n",
       "       [14273795],\n",
       "       [14483129],\n",
       "       [14684529],\n",
       "       [14924206],\n",
       "       [15205880],\n",
       "       [15482211],\n",
       "       [15766099],\n",
       "       [16025585],\n",
       "       [16257403],\n",
       "       [16469638],\n",
       "       [16713258],\n",
       "       [17011356],\n",
       "       [17301803],\n",
       "       [17580703],\n",
       "       [17848021],\n",
       "       [18071725],\n",
       "       [18276792],\n",
       "       [18532290],\n",
       "       [18808913],\n",
       "       [19095075],\n",
       "       [19371087],\n",
       "       [19639204],\n",
       "       [19868624],\n",
       "       [20088954],\n",
       "       [20350005],\n",
       "       [20638989],\n",
       "       [20925874],\n",
       "       [21215137],\n",
       "       [21474437],\n",
       "       [21706551],\n",
       "       [21706551],\n",
       "       [21901632],\n",
       "       [22151281]], dtype=int64)"
      ]
     },
     "execution_count": 7,
     "metadata": {},
     "output_type": "execute_result"
    }
   ],
   "source": [
    "y"
   ]
  },
  {
   "cell_type": "code",
   "execution_count": 8,
   "metadata": {},
   "outputs": [
    {
     "data": {
      "image/png": "[encoded data removed]",
      "text/plain": [
       "<matplotlib.figure.Figure at 0x21c7f676470>"
      ]
     },
     "metadata": {},
     "output_type": "display_data"
    }
   ],
   "source": [
    "\n",
    "plt.plot(y,'m*')\n",
    "plt.show()"
   ]
  },
  {
   "cell_type": "code",
   "execution_count": 9,
   "metadata": {},
   "outputs": [],
   "source": [
    "#feature extraction\n",
    "from sklearn.preprocessing import PolynomialFeatures"
   ]
  },
  {
   "cell_type": "code",
   "execution_count": 10,
   "metadata": {},
   "outputs": [],
   "source": [
    "polyfeat=PolynomialFeatures(degree=3) \n",
    "x=polyfeat.fit_transform(x)"
   ]
  },
  {
   "cell_type": "code",
   "execution_count": 11,
   "metadata": {},
   "outputs": [
    {
     "data": {
      "text/plain": [
       "array([[1.0000000e+00, 1.0000000e+00, 1.0000000e+00, 1.0000000e+00],\n",
       "       [1.0000000e+00, 2.0000000e+00, 4.0000000e+00, 8.0000000e+00],\n",
       "       [1.0000000e+00, 3.0000000e+00, 9.0000000e+00, 2.7000000e+01],\n",
       "       [1.0000000e+00, 4.0000000e+00, 1.6000000e+01, 6.4000000e+01],\n",
       "       [1.0000000e+00, 5.0000000e+00, 2.5000000e+01, 1.2500000e+02],\n",
       "       [1.0000000e+00, 6.0000000e+00, 3.6000000e+01, 2.1600000e+02],\n",
       "       [1.0000000e+00, 7.0000000e+00, 4.9000000e+01, 3.4300000e+02],\n",
       "       [1.0000000e+00, 8.0000000e+00, 6.4000000e+01, 5.1200000e+02],\n",
       "       [1.0000000e+00, 9.0000000e+00, 8.1000000e+01, 7.2900000e+02],\n",
       "       [1.0000000e+00, 1.0000000e+01, 1.0000000e+02, 1.0000000e+03],\n",
       "       [1.0000000e+00, 1.1000000e+01, 1.2100000e+02, 1.3310000e+03],\n",
       "       [1.0000000e+00, 1.2000000e+01, 1.4400000e+02, 1.7280000e+03],\n",
       "       [1.0000000e+00, 1.3000000e+01, 1.6900000e+02, 2.1970000e+03],\n",
       "       [1.0000000e+00, 1.4000000e+01, 1.9600000e+02, 2.7440000e+03],\n",
       "       [1.0000000e+00, 1.5000000e+01, 2.2500000e+02, 3.3750000e+03],\n",
       "       [1.0000000e+00, 1.6000000e+01, 2.5600000e+02, 4.0960000e+03],\n",
       "       [1.0000000e+00, 1.7000000e+01, 2.8900000e+02, 4.9130000e+03],\n",
       "       [1.0000000e+00, 1.8000000e+01, 3.2400000e+02, 5.8320000e+03],\n",
       "       [1.0000000e+00, 1.9000000e+01, 3.6100000e+02, 6.8590000e+03],\n",
       "       [1.0000000e+00, 2.0000000e+01, 4.0000000e+02, 8.0000000e+03],\n",
       "       [1.0000000e+00, 2.1000000e+01, 4.4100000e+02, 9.2610000e+03],\n",
       "       [1.0000000e+00, 2.2000000e+01, 4.8400000e+02, 1.0648000e+04],\n",
       "       [1.0000000e+00, 2.3000000e+01, 5.2900000e+02, 1.2167000e+04],\n",
       "       [1.0000000e+00, 2.4000000e+01, 5.7600000e+02, 1.3824000e+04],\n",
       "       [1.0000000e+00, 2.5000000e+01, 6.2500000e+02, 1.5625000e+04],\n",
       "       [1.0000000e+00, 2.6000000e+01, 6.7600000e+02, 1.7576000e+04],\n",
       "       [1.0000000e+00, 2.7000000e+01, 7.2900000e+02, 1.9683000e+04],\n",
       "       [1.0000000e+00, 2.8000000e+01, 7.8400000e+02, 2.1952000e+04],\n",
       "       [1.0000000e+00, 2.9000000e+01, 8.4100000e+02, 2.4389000e+04],\n",
       "       [1.0000000e+00, 3.0000000e+01, 9.0000000e+02, 2.7000000e+04],\n",
       "       [1.0000000e+00, 3.1000000e+01, 9.6100000e+02, 2.9791000e+04],\n",
       "       [1.0000000e+00, 3.2000000e+01, 1.0240000e+03, 3.2768000e+04],\n",
       "       [1.0000000e+00, 3.3000000e+01, 1.0890000e+03, 3.5937000e+04],\n",
       "       [1.0000000e+00, 3.4000000e+01, 1.1560000e+03, 3.9304000e+04],\n",
       "       [1.0000000e+00, 3.5000000e+01, 1.2250000e+03, 4.2875000e+04],\n",
       "       [1.0000000e+00, 3.6000000e+01, 1.2960000e+03, 4.6656000e+04],\n",
       "       [1.0000000e+00, 3.7000000e+01, 1.3690000e+03, 5.0653000e+04],\n",
       "       [1.0000000e+00, 3.8000000e+01, 1.4440000e+03, 5.4872000e+04],\n",
       "       [1.0000000e+00, 3.9000000e+01, 1.5210000e+03, 5.9319000e+04],\n",
       "       [1.0000000e+00, 4.0000000e+01, 1.6000000e+03, 6.4000000e+04],\n",
       "       [1.0000000e+00, 4.1000000e+01, 1.6810000e+03, 6.8921000e+04],\n",
       "       [1.0000000e+00, 4.2000000e+01, 1.7640000e+03, 7.4088000e+04],\n",
       "       [1.0000000e+00, 4.3000000e+01, 1.8490000e+03, 7.9507000e+04],\n",
       "       [1.0000000e+00, 4.4000000e+01, 1.9360000e+03, 8.5184000e+04],\n",
       "       [1.0000000e+00, 4.5000000e+01, 2.0250000e+03, 9.1125000e+04],\n",
       "       [1.0000000e+00, 4.6000000e+01, 2.1160000e+03, 9.7336000e+04],\n",
       "       [1.0000000e+00, 4.7000000e+01, 2.2090000e+03, 1.0382300e+05],\n",
       "       [1.0000000e+00, 4.8000000e+01, 2.3040000e+03, 1.1059200e+05],\n",
       "       [1.0000000e+00, 4.9000000e+01, 2.4010000e+03, 1.1764900e+05],\n",
       "       [1.0000000e+00, 5.0000000e+01, 2.5000000e+03, 1.2500000e+05],\n",
       "       [1.0000000e+00, 5.1000000e+01, 2.6010000e+03, 1.3265100e+05],\n",
       "       [1.0000000e+00, 5.2000000e+01, 2.7040000e+03, 1.4060800e+05],\n",
       "       [1.0000000e+00, 5.3000000e+01, 2.8090000e+03, 1.4887700e+05],\n",
       "       [1.0000000e+00, 5.4000000e+01, 2.9160000e+03, 1.5746400e+05],\n",
       "       [1.0000000e+00, 5.5000000e+01, 3.0250000e+03, 1.6637500e+05],\n",
       "       [1.0000000e+00, 5.6000000e+01, 3.1360000e+03, 1.7561600e+05],\n",
       "       [1.0000000e+00, 5.7000000e+01, 3.2490000e+03, 1.8519300e+05],\n",
       "       [1.0000000e+00, 5.8000000e+01, 3.3640000e+03, 1.9511200e+05],\n",
       "       [1.0000000e+00, 5.9000000e+01, 3.4810000e+03, 2.0537900e+05],\n",
       "       [1.0000000e+00, 6.0000000e+01, 3.6000000e+03, 2.1600000e+05],\n",
       "       [1.0000000e+00, 6.1000000e+01, 3.7210000e+03, 2.2698100e+05],\n",
       "       [1.0000000e+00, 6.2000000e+01, 3.8440000e+03, 2.3832800e+05],\n",
       "       [1.0000000e+00, 6.3000000e+01, 3.9690000e+03, 2.5004700e+05],\n",
       "       [1.0000000e+00, 6.4000000e+01, 4.0960000e+03, 2.6214400e+05],\n",
       "       [1.0000000e+00, 6.5000000e+01, 4.2250000e+03, 2.7462500e+05],\n",
       "       [1.0000000e+00, 6.6000000e+01, 4.3560000e+03, 2.8749600e+05],\n",
       "       [1.0000000e+00, 6.7000000e+01, 4.4890000e+03, 3.0076300e+05],\n",
       "       [1.0000000e+00, 6.8000000e+01, 4.6240000e+03, 3.1443200e+05],\n",
       "       [1.0000000e+00, 6.9000000e+01, 4.7610000e+03, 3.2850900e+05],\n",
       "       [1.0000000e+00, 7.0000000e+01, 4.9000000e+03, 3.4300000e+05],\n",
       "       [1.0000000e+00, 7.1000000e+01, 5.0410000e+03, 3.5791100e+05],\n",
       "       [1.0000000e+00, 7.2000000e+01, 5.1840000e+03, 3.7324800e+05],\n",
       "       [1.0000000e+00, 7.3000000e+01, 5.3290000e+03, 3.8901700e+05],\n",
       "       [1.0000000e+00, 7.4000000e+01, 5.4760000e+03, 4.0522400e+05],\n",
       "       [1.0000000e+00, 7.5000000e+01, 5.6250000e+03, 4.2187500e+05],\n",
       "       [1.0000000e+00, 7.6000000e+01, 5.7760000e+03, 4.3897600e+05],\n",
       "       [1.0000000e+00, 7.7000000e+01, 5.9290000e+03, 4.5653300e+05],\n",
       "       [1.0000000e+00, 7.8000000e+01, 6.0840000e+03, 4.7455200e+05],\n",
       "       [1.0000000e+00, 7.9000000e+01, 6.2410000e+03, 4.9303900e+05],\n",
       "       [1.0000000e+00, 8.0000000e+01, 6.4000000e+03, 5.1200000e+05],\n",
       "       [1.0000000e+00, 8.1000000e+01, 6.5610000e+03, 5.3144100e+05],\n",
       "       [1.0000000e+00, 8.2000000e+01, 6.7240000e+03, 5.5136800e+05],\n",
       "       [1.0000000e+00, 8.3000000e+01, 6.8890000e+03, 5.7178700e+05],\n",
       "       [1.0000000e+00, 8.4000000e+01, 7.0560000e+03, 5.9270400e+05],\n",
       "       [1.0000000e+00, 8.5000000e+01, 7.2250000e+03, 6.1412500e+05],\n",
       "       [1.0000000e+00, 8.6000000e+01, 7.3960000e+03, 6.3605600e+05],\n",
       "       [1.0000000e+00, 8.7000000e+01, 7.5690000e+03, 6.5850300e+05],\n",
       "       [1.0000000e+00, 8.8000000e+01, 7.7440000e+03, 6.8147200e+05],\n",
       "       [1.0000000e+00, 8.9000000e+01, 7.9210000e+03, 7.0496900e+05],\n",
       "       [1.0000000e+00, 9.0000000e+01, 8.1000000e+03, 7.2900000e+05],\n",
       "       [1.0000000e+00, 9.1000000e+01, 8.2810000e+03, 7.5357100e+05],\n",
       "       [1.0000000e+00, 9.2000000e+01, 8.4640000e+03, 7.7868800e+05],\n",
       "       [1.0000000e+00, 9.3000000e+01, 8.6490000e+03, 8.0435700e+05],\n",
       "       [1.0000000e+00, 9.4000000e+01, 8.8360000e+03, 8.3058400e+05],\n",
       "       [1.0000000e+00, 9.5000000e+01, 9.0250000e+03, 8.5737500e+05],\n",
       "       [1.0000000e+00, 9.6000000e+01, 9.2160000e+03, 8.8473600e+05],\n",
       "       [1.0000000e+00, 9.7000000e+01, 9.4090000e+03, 9.1267300e+05],\n",
       "       [1.0000000e+00, 9.8000000e+01, 9.6040000e+03, 9.4119200e+05],\n",
       "       [1.0000000e+00, 9.9000000e+01, 9.8010000e+03, 9.7029900e+05],\n",
       "       [1.0000000e+00, 1.0000000e+02, 1.0000000e+04, 1.0000000e+06],\n",
       "       [1.0000000e+00, 1.0100000e+02, 1.0201000e+04, 1.0303010e+06],\n",
       "       [1.0000000e+00, 1.0200000e+02, 1.0404000e+04, 1.0612080e+06],\n",
       "       [1.0000000e+00, 1.0300000e+02, 1.0609000e+04, 1.0927270e+06],\n",
       "       [1.0000000e+00, 1.0400000e+02, 1.0816000e+04, 1.1248640e+06],\n",
       "       [1.0000000e+00, 1.0500000e+02, 1.1025000e+04, 1.1576250e+06],\n",
       "       [1.0000000e+00, 1.0600000e+02, 1.1236000e+04, 1.1910160e+06],\n",
       "       [1.0000000e+00, 1.0700000e+02, 1.1449000e+04, 1.2250430e+06],\n",
       "       [1.0000000e+00, 1.0800000e+02, 1.1664000e+04, 1.2597120e+06],\n",
       "       [1.0000000e+00, 1.0900000e+02, 1.1881000e+04, 1.2950290e+06],\n",
       "       [1.0000000e+00, 1.1000000e+02, 1.2100000e+04, 1.3310000e+06],\n",
       "       [1.0000000e+00, 1.1100000e+02, 1.2321000e+04, 1.3676310e+06],\n",
       "       [1.0000000e+00, 1.1200000e+02, 1.2544000e+04, 1.4049280e+06],\n",
       "       [1.0000000e+00, 1.1300000e+02, 1.2769000e+04, 1.4428970e+06],\n",
       "       [1.0000000e+00, 1.1400000e+02, 1.2996000e+04, 1.4815440e+06],\n",
       "       [1.0000000e+00, 1.1500000e+02, 1.3225000e+04, 1.5208750e+06],\n",
       "       [1.0000000e+00, 1.1600000e+02, 1.3456000e+04, 1.5608960e+06],\n",
       "       [1.0000000e+00, 1.1700000e+02, 1.3689000e+04, 1.6016130e+06],\n",
       "       [1.0000000e+00, 1.1800000e+02, 1.3924000e+04, 1.6430320e+06],\n",
       "       [1.0000000e+00, 1.1900000e+02, 1.4161000e+04, 1.6851590e+06],\n",
       "       [1.0000000e+00, 1.2000000e+02, 1.4400000e+04, 1.7280000e+06],\n",
       "       [1.0000000e+00, 1.2100000e+02, 1.4641000e+04, 1.7715610e+06],\n",
       "       [1.0000000e+00, 1.2200000e+02, 1.4884000e+04, 1.8158480e+06],\n",
       "       [1.0000000e+00, 1.2300000e+02, 1.5129000e+04, 1.8608670e+06],\n",
       "       [1.0000000e+00, 1.2400000e+02, 1.5376000e+04, 1.9066240e+06],\n",
       "       [1.0000000e+00, 1.2500000e+02, 1.5625000e+04, 1.9531250e+06],\n",
       "       [1.0000000e+00, 1.2600000e+02, 1.5876000e+04, 2.0003760e+06],\n",
       "       [1.0000000e+00, 1.2700000e+02, 1.6129000e+04, 2.0483830e+06],\n",
       "       [1.0000000e+00, 1.2800000e+02, 1.6384000e+04, 2.0971520e+06],\n",
       "       [1.0000000e+00, 1.2900000e+02, 1.6641000e+04, 2.1466890e+06],\n",
       "       [1.0000000e+00, 1.3000000e+02, 1.6900000e+04, 2.1970000e+06],\n",
       "       [1.0000000e+00, 1.3100000e+02, 1.7161000e+04, 2.2480910e+06],\n",
       "       [1.0000000e+00, 1.3200000e+02, 1.7424000e+04, 2.2999680e+06],\n",
       "       [1.0000000e+00, 1.3300000e+02, 1.7689000e+04, 2.3526370e+06],\n",
       "       [1.0000000e+00, 1.3400000e+02, 1.7956000e+04, 2.4061040e+06],\n",
       "       [1.0000000e+00, 1.3500000e+02, 1.8225000e+04, 2.4603750e+06],\n",
       "       [1.0000000e+00, 1.3600000e+02, 1.8496000e+04, 2.5154560e+06],\n",
       "       [1.0000000e+00, 1.3700000e+02, 1.8769000e+04, 2.5713530e+06],\n",
       "       [1.0000000e+00, 1.3800000e+02, 1.9044000e+04, 2.6280720e+06],\n",
       "       [1.0000000e+00, 1.3900000e+02, 1.9321000e+04, 2.6856190e+06],\n",
       "       [1.0000000e+00, 1.4000000e+02, 1.9600000e+04, 2.7440000e+06],\n",
       "       [1.0000000e+00, 1.4100000e+02, 1.9881000e+04, 2.8032210e+06],\n",
       "       [1.0000000e+00, 1.4200000e+02, 2.0164000e+04, 2.8632880e+06],\n",
       "       [1.0000000e+00, 1.4300000e+02, 2.0449000e+04, 2.9242070e+06],\n",
       "       [1.0000000e+00, 1.4400000e+02, 2.0736000e+04, 2.9859840e+06],\n",
       "       [1.0000000e+00, 1.4500000e+02, 2.1025000e+04, 3.0486250e+06],\n",
       "       [1.0000000e+00, 1.4600000e+02, 2.1316000e+04, 3.1121360e+06],\n",
       "       [1.0000000e+00, 1.4700000e+02, 2.1609000e+04, 3.1765230e+06],\n",
       "       [1.0000000e+00, 1.4800000e+02, 2.1904000e+04, 3.2417920e+06],\n",
       "       [1.0000000e+00, 1.4900000e+02, 2.2201000e+04, 3.3079490e+06],\n",
       "       [1.0000000e+00, 1.5000000e+02, 2.2500000e+04, 3.3750000e+06],\n",
       "       [1.0000000e+00, 1.5100000e+02, 2.2801000e+04, 3.4429510e+06],\n",
       "       [1.0000000e+00, 1.5200000e+02, 2.3104000e+04, 3.5118080e+06],\n",
       "       [1.0000000e+00, 1.5300000e+02, 2.3409000e+04, 3.5815770e+06],\n",
       "       [1.0000000e+00, 1.5400000e+02, 2.3716000e+04, 3.6522640e+06],\n",
       "       [1.0000000e+00, 1.5500000e+02, 2.4025000e+04, 3.7238750e+06],\n",
       "       [1.0000000e+00, 1.5600000e+02, 2.4336000e+04, 3.7964160e+06],\n",
       "       [1.0000000e+00, 1.5700000e+02, 2.4649000e+04, 3.8698930e+06],\n",
       "       [1.0000000e+00, 1.5800000e+02, 2.4964000e+04, 3.9443120e+06],\n",
       "       [1.0000000e+00, 1.5900000e+02, 2.5281000e+04, 4.0196790e+06],\n",
       "       [1.0000000e+00, 1.6000000e+02, 2.5600000e+04, 4.0960000e+06],\n",
       "       [1.0000000e+00, 1.6100000e+02, 2.5921000e+04, 4.1732810e+06],\n",
       "       [1.0000000e+00, 1.6200000e+02, 2.6244000e+04, 4.2515280e+06],\n",
       "       [1.0000000e+00, 1.6300000e+02, 2.6569000e+04, 4.3307470e+06],\n",
       "       [1.0000000e+00, 1.6400000e+02, 2.6896000e+04, 4.4109440e+06],\n",
       "       [1.0000000e+00, 1.6500000e+02, 2.7225000e+04, 4.4921250e+06],\n",
       "       [1.0000000e+00, 1.6600000e+02, 2.7556000e+04, 4.5742960e+06],\n",
       "       [1.0000000e+00, 1.6700000e+02, 2.7889000e+04, 4.6574630e+06],\n",
       "       [1.0000000e+00, 1.6800000e+02, 2.8224000e+04, 4.7416320e+06],\n",
       "       [1.0000000e+00, 1.6900000e+02, 2.8561000e+04, 4.8268090e+06],\n",
       "       [1.0000000e+00, 1.7000000e+02, 2.8900000e+04, 4.9130000e+06],\n",
       "       [1.0000000e+00, 1.7100000e+02, 2.9241000e+04, 5.0002110e+06],\n",
       "       [1.0000000e+00, 1.7200000e+02, 2.9584000e+04, 5.0884480e+06],\n",
       "       [1.0000000e+00, 1.7300000e+02, 2.9929000e+04, 5.1777170e+06],\n",
       "       [1.0000000e+00, 1.7400000e+02, 3.0276000e+04, 5.2680240e+06],\n",
       "       [1.0000000e+00, 1.7500000e+02, 3.0625000e+04, 5.3593750e+06],\n",
       "       [1.0000000e+00, 1.7600000e+02, 3.0976000e+04, 5.4517760e+06],\n",
       "       [1.0000000e+00, 1.7700000e+02, 3.1329000e+04, 5.5452330e+06],\n",
       "       [1.0000000e+00, 1.7800000e+02, 3.1684000e+04, 5.6397520e+06],\n",
       "       [1.0000000e+00, 1.7900000e+02, 3.2041000e+04, 5.7353390e+06],\n",
       "       [1.0000000e+00, 1.8000000e+02, 3.2400000e+04, 5.8320000e+06],\n",
       "       [1.0000000e+00, 1.8100000e+02, 3.2761000e+04, 5.9297410e+06],\n",
       "       [1.0000000e+00, 1.8200000e+02, 3.3124000e+04, 6.0285680e+06],\n",
       "       [1.0000000e+00, 1.8300000e+02, 3.3489000e+04, 6.1284870e+06],\n",
       "       [1.0000000e+00, 1.8400000e+02, 3.3856000e+04, 6.2295040e+06],\n",
       "       [1.0000000e+00, 1.8500000e+02, 3.4225000e+04, 6.3316250e+06],\n",
       "       [1.0000000e+00, 1.8600000e+02, 3.4596000e+04, 6.4348560e+06],\n",
       "       [1.0000000e+00, 1.8700000e+02, 3.4969000e+04, 6.5392030e+06],\n",
       "       [1.0000000e+00, 1.8800000e+02, 3.5344000e+04, 6.6446720e+06],\n",
       "       [1.0000000e+00, 1.8900000e+02, 3.5721000e+04, 6.7512690e+06],\n",
       "       [1.0000000e+00, 1.9000000e+02, 3.6100000e+04, 6.8590000e+06],\n",
       "       [1.0000000e+00, 1.9100000e+02, 3.6481000e+04, 6.9678710e+06],\n",
       "       [1.0000000e+00, 1.9200000e+02, 3.6864000e+04, 7.0778880e+06],\n",
       "       [1.0000000e+00, 1.9300000e+02, 3.7249000e+04, 7.1890570e+06],\n",
       "       [1.0000000e+00, 1.9400000e+02, 3.7636000e+04, 7.3013840e+06],\n",
       "       [1.0000000e+00, 1.9500000e+02, 3.8025000e+04, 7.4148750e+06],\n",
       "       [1.0000000e+00, 1.9600000e+02, 3.8416000e+04, 7.5295360e+06],\n",
       "       [1.0000000e+00, 1.9700000e+02, 3.8809000e+04, 7.6453730e+06],\n",
       "       [1.0000000e+00, 1.9800000e+02, 3.9204000e+04, 7.7623920e+06],\n",
       "       [1.0000000e+00, 1.9900000e+02, 3.9601000e+04, 7.8805990e+06],\n",
       "       [1.0000000e+00, 2.0000000e+02, 4.0000000e+04, 8.0000000e+06],\n",
       "       [1.0000000e+00, 2.0100000e+02, 4.0401000e+04, 8.1206010e+06],\n",
       "       [1.0000000e+00, 2.0200000e+02, 4.0804000e+04, 8.2424080e+06],\n",
       "       [1.0000000e+00, 2.0300000e+02, 4.1209000e+04, 8.3654270e+06],\n",
       "       [1.0000000e+00, 2.0400000e+02, 4.1616000e+04, 8.4896640e+06],\n",
       "       [1.0000000e+00, 2.0500000e+02, 4.2025000e+04, 8.6151250e+06],\n",
       "       [1.0000000e+00, 2.0600000e+02, 4.2436000e+04, 8.7418160e+06],\n",
       "       [1.0000000e+00, 2.0700000e+02, 4.2849000e+04, 8.8697430e+06],\n",
       "       [1.0000000e+00, 2.0800000e+02, 4.3264000e+04, 8.9989120e+06],\n",
       "       [1.0000000e+00, 2.0900000e+02, 4.3681000e+04, 9.1293290e+06],\n",
       "       [1.0000000e+00, 2.1000000e+02, 4.4100000e+04, 9.2610000e+06],\n",
       "       [1.0000000e+00, 2.1100000e+02, 4.4521000e+04, 9.3939310e+06],\n",
       "       [1.0000000e+00, 2.1200000e+02, 4.4944000e+04, 9.5281280e+06],\n",
       "       [1.0000000e+00, 2.1300000e+02, 4.5369000e+04, 9.6635970e+06],\n",
       "       [1.0000000e+00, 2.1400000e+02, 4.5796000e+04, 9.8003440e+06],\n",
       "       [1.0000000e+00, 2.1500000e+02, 4.6225000e+04, 9.9383750e+06],\n",
       "       [1.0000000e+00, 2.1600000e+02, 4.6656000e+04, 1.0077696e+07],\n",
       "       [1.0000000e+00, 2.1700000e+02, 4.7089000e+04, 1.0218313e+07],\n",
       "       [1.0000000e+00, 2.1800000e+02, 4.7524000e+04, 1.0360232e+07],\n",
       "       [1.0000000e+00, 2.1900000e+02, 4.7961000e+04, 1.0503459e+07],\n",
       "       [1.0000000e+00, 2.2000000e+02, 4.8400000e+04, 1.0648000e+07],\n",
       "       [1.0000000e+00, 2.2100000e+02, 4.8841000e+04, 1.0793861e+07],\n",
       "       [1.0000000e+00, 2.2200000e+02, 4.9284000e+04, 1.0941048e+07],\n",
       "       [1.0000000e+00, 2.2300000e+02, 4.9729000e+04, 1.1089567e+07],\n",
       "       [1.0000000e+00, 2.2400000e+02, 5.0176000e+04, 1.1239424e+07],\n",
       "       [1.0000000e+00, 2.2500000e+02, 5.0625000e+04, 1.1390625e+07],\n",
       "       [1.0000000e+00, 2.2600000e+02, 5.1076000e+04, 1.1543176e+07],\n",
       "       [1.0000000e+00, 2.2700000e+02, 5.1529000e+04, 1.1697083e+07],\n",
       "       [1.0000000e+00, 2.2800000e+02, 5.1984000e+04, 1.1852352e+07],\n",
       "       [1.0000000e+00, 2.2900000e+02, 5.2441000e+04, 1.2008989e+07],\n",
       "       [1.0000000e+00, 2.3000000e+02, 5.2900000e+04, 1.2167000e+07],\n",
       "       [1.0000000e+00, 2.3100000e+02, 5.3361000e+04, 1.2326391e+07],\n",
       "       [1.0000000e+00, 2.3200000e+02, 5.3824000e+04, 1.2487168e+07],\n",
       "       [1.0000000e+00, 2.3300000e+02, 5.4289000e+04, 1.2649337e+07],\n",
       "       [1.0000000e+00, 2.3400000e+02, 5.4756000e+04, 1.2812904e+07]])"
      ]
     },
     "execution_count": 11,
     "metadata": {},
     "output_type": "execute_result"
    }
   ],
   "source": [
    "x"
   ]
  },
  {
   "cell_type": "code",
   "execution_count": 12,
   "metadata": {},
   "outputs": [],
   "source": [
    "##training data\n",
    "from sklearn import linear_model\n",
    "model = linear_model.LinearRegression()"
   ]
  },
  {
   "cell_type": "code",
   "execution_count": 13,
   "metadata": {},
   "outputs": [
    {
     "data": {
      "text/plain": [
       "LinearRegression(copy_X=True, fit_intercept=True, n_jobs=1, normalize=False)"
      ]
     },
     "execution_count": 13,
     "metadata": {},
     "output_type": "execute_result"
    }
   ],
   "source": [
    "model.fit(x,y)"
   ]
  },
  {
   "cell_type": "code",
   "execution_count": 14,
   "metadata": {},
   "outputs": [],
   "source": [
    "accuracy =model.score(x,y)"
   ]
  },
  {
   "cell_type": "code",
   "execution_count": 15,
   "metadata": {},
   "outputs": [
    {
     "data": {
      "text/plain": [
       "99.91804334620575"
      ]
     },
     "execution_count": 15,
     "metadata": {},
     "output_type": "execute_result"
    }
   ],
   "source": [
    "accuracy*100"
   ]
  },
  {
   "cell_type": "code",
   "execution_count": 16,
   "metadata": {},
   "outputs": [],
   "source": [
    "y_pred=model.predict(x)"
   ]
  },
  {
   "cell_type": "code",
   "execution_count": 17,
   "metadata": {},
   "outputs": [
    {
     "data": {
      "image/png": "[encoded data removed]",
      "text/plain": [
       "<matplotlib.figure.Figure at 0x21c04972668>"
      ]
     },
     "metadata": {},
     "output_type": "display_data"
    }
   ],
   "source": [
    "plt.plot(y_pred,'--b')\n",
    "plt.show()"
   ]
  },
  {
   "cell_type": "code",
   "execution_count": null,
   "metadata": {},
   "outputs": [],
   "source": []
  },
  {
   "cell_type": "code",
   "execution_count": 26,
   "metadata": {},
   "outputs": [
    {
     "name": "stdout",
     "output_type": "stream",
     "text": [
      "4\n",
      "prdection after 4 days:\n",
      "23.7 MILLION\n",
      "[]\n"
     ]
    }
   ],
   "source": [
    "#prediction for future cases of carona\n",
    "days=int(input())\n",
    "print(f'prdection after {days} days:')\n",
    "print(round(int(model.predict(polyfeat.fit_transform([[234+days]])))/1000000,2),'MILLION')\n",
    "print([])"
   ]
  },
  {
   "cell_type": "markdown",
   "metadata": {},
   "source": []
  },
  {
   "cell_type": "code",
   "execution_count": 24,
   "metadata": {},
   "outputs": [
    {
     "data": {
      "image/png": "[encoded data removed]",
      "text/plain": [
       "<matplotlib.figure.Figure at 0x21c04a90eb8>"
      ]
     },
     "metadata": {},
     "output_type": "display_data"
    }
   ],
   "source": [
    "x1=np.array(list(range(1,234+days))).reshape(-1,1)\n",
    "y1=model.predict(polyfeat.fit_transform(x1))\n",
    "plt.plot(y1,'*r')\n",
    "plt.plot(y_pred,'--b')\n",
    "\n",
    "plt.show()"
   ]
  },
  {
   "cell_type": "code",
   "execution_count": null,
   "metadata": {},
   "outputs": [],
   "source": []
  },
  {
   "cell_type": "code",
   "execution_count": null,
   "metadata": {},
   "outputs": [],
   "source": []
  }
 ],
 "metadata": {
  "kernelspec": {
   "display_name": "Python 3",
   "language": "python",
   "name": "python3"
  },
  "language_info": {
   "codemirror_mode": {
    "name": "ipython",
    "version": 3
   },
   "file_extension": ".py",
   "mimetype": "text/x-python",
   "name": "python",
   "nbconvert_exporter": "python",
   "pygments_lexer": "ipython3",
   "version": "3.6.4"
  }
 },
 "nbformat": 4,
 "nbformat_minor": 2
}
